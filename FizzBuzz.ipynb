{
 "cells": [
  {
   "cell_type": "markdown",
   "id": "a97906af-12fd-4331-a9f5-2d2859e7f433",
   "metadata": {
    "tags": []
   },
   "source": [
    "# FizzBuzz in Qiskit"
   ]
  },
  {
   "cell_type": "markdown",
   "id": "1125e123-b4a7-42f0-b23c-0cc4311cb973",
   "metadata": {},
   "source": [
    "**Fizz buzz** is a group word game for children to teach them about division [1]. First person starts counting from $1$ then each next player takes turns adding another $1$ to previous number and saying the result except on occasion it should be replaced by\n",
    "* *Fizz* if the result is divisible by $3$,\n",
    "* *Buzz* if the result is divisible by $5$,\n",
    "* *Fizz Buzz* if it happens simultaneously.\n",
    "\n",
    "Those who make a mistake are out of the game which is continue round by round. As a result there is a word chain likes \"One, Two, *Fizz*, Four, *Buzz*, *Fizz*, Seven, Eight\" so on.\n",
    "\n",
    "**FizzBuzz** is also a common programming task to test basic skills. In this case the sequence from $1$ to $100$ should be a program output and could be obtained in many ways. So there are a lot of its implementations in different programming languages. Let's try to realize a simplified version of FizzBuzz in Qiskit using Grover's Search Algorithm (GSA) for multiple solutions.\n",
    "\n",
    "We create a FizzBuzz sequence from $0$ to $15$ due to some reasons. All the numbers have a four bit representation, two auxiliary bits is enough to carry a check condition that is simplified in the range, and there are two FizzBuzz opening and closing the chain.\n",
    "\n",
    "GSA is an algorithm for unstructured search presented by Lov Grover in 1996 [2]. Instead of serial brute force it processes all data in parallel increasing a probability of desired outcomes in final distribution. That provides quantum supremacy becasue of quadratic speedup."
   ]
  },
  {
   "cell_type": "code",
   "execution_count": null,
   "id": "44ca274a-0797-4c5f-b50b-004e948319a3",
   "metadata": {},
   "outputs": [],
   "source": [
    "import numpy as np\n",
    "\n",
    "# Importing standard Qiskit libraries\n",
    "from qiskit import QuantumCircuit, Aer, IBMQ, QuantumRegister, ClassicalRegister, execute\n",
    "from qiskit.visualization import *"
   ]
  },
  {
   "cell_type": "markdown",
   "id": "c20be2d7-374b-4fa4-b93c-e3434bb91e4f",
   "metadata": {},
   "source": [
    "## Initialization"
   ]
  },
  {
   "cell_type": "code",
   "execution_count": null,
   "id": "1095e680-92f1-499a-aa33-1ce12f39d874",
   "metadata": {},
   "outputs": [],
   "source": [
    "def init(qc):\n",
    "    qc.h(range(6))"
   ]
  },
  {
   "cell_type": "markdown",
   "id": "daa6b9c7-f100-444e-a508-4624276bc73e",
   "metadata": {},
   "source": [
    "## Quantum Fourier Transform"
   ]
  },
  {
   "cell_type": "code",
   "execution_count": null,
   "id": "0cdbc2a1-0b16-4ec8-81c4-bf9b786622eb",
   "metadata": {},
   "outputs": [],
   "source": [
    "def qft(qc):\n",
    "    qc.h(5)\n",
    "    qc.cp(np.pi/2, 4, 5)\n",
    "    qc.h(4)\n",
    "    qc.swap(4,5)"
   ]
  },
  {
   "cell_type": "markdown",
   "id": "89478c0e-4156-4b5b-8a66-71e30c587cc6",
   "metadata": {
    "tags": []
   },
   "source": [
    "## Divisibility by 3"
   ]
  },
  {
   "cell_type": "markdown",
   "id": "4ff66f83-957f-4aea-8e0f-06855e70cbe8",
   "metadata": {},
   "source": [
    "Since $3_{10}=11_2$ it is easy to check if a binary number satisfies the condition. The algorithm would be the same as for decimal number. We find the sums of its even and odd digits and compare them to each other. If they are equal or if their difference is multiple of $11_2$ then the binary number is divisible by $11_2$. The second statement is always false for 4-bit register so the only way is $$(c_0+c_2)-(c_1+c_3)=0$$"
   ]
  },
  {
   "cell_type": "code",
   "execution_count": null,
   "id": "dd2ed378-2af2-4838-a82a-b5307258f1eb",
   "metadata": {},
   "outputs": [],
   "source": [
    "def div_by_3(qc):\n",
    "    qc.cp(np.pi/2, 0, 4)\n",
    "    qc.cz(0, 5)\n",
    "    qc.cp(np.pi/2, 2, 4)\n",
    "    qc.cz(2, 5)\n",
    "    qc.cp(-np.pi/2, 1, 4)\n",
    "    qc.cz(1, 5)\n",
    "    qc.cp(-np.pi/2, 3, 4)\n",
    "    qc.cz(3, 5)"
   ]
  },
  {
   "cell_type": "markdown",
   "id": "5b373b40-d041-4051-9eb8-1ee381f64886",
   "metadata": {},
   "source": [
    "## Divisibility by 5"
   ]
  },
  {
   "cell_type": "markdown",
   "id": "073d6cb3-d47b-40c0-aa98-e388ffdf157d",
   "metadata": {},
   "source": [
    "It looks a bit harder but very similar to the previous one. $3_{10}={0101}_2=11_4$ and each binary pair corresponds to a quaternary digit that is why we have to compare the sums of even and odd pairs of digits. The rest should be the same thus the condition reduces to $$c_1c_0-c_3c_2=0$$"
   ]
  },
  {
   "cell_type": "code",
   "execution_count": null,
   "id": "8de80e35-0971-4829-b58c-57428fd46ea3",
   "metadata": {},
   "outputs": [],
   "source": [
    "def div_by_5(qc):\n",
    "    qc.cp(np.pi/2, 0, 4)\n",
    "    qc.cz(0, 5)\n",
    "    qc.cz(1, 4)\n",
    "    qc.cp(-np.pi/2, 2, 4)\n",
    "    qc.cz(2, 5)\n",
    "    qc.cz(3, 4)"
   ]
  },
  {
   "cell_type": "markdown",
   "id": "b9437c92-3e4d-42b7-931c-b8be44f61c3a",
   "metadata": {},
   "source": [
    "## Inverse Quantum Fourier Transform"
   ]
  },
  {
   "cell_type": "code",
   "execution_count": null,
   "id": "5836b3fc-11ae-4fe1-a1c8-78726f60040b",
   "metadata": {},
   "outputs": [],
   "source": [
    "def iqft(qc):\n",
    "    qc.h(4)\n",
    "    qc.cp(-np.pi/2, 4, 5)\n",
    "    qc.h(5)\n",
    "    qc.swap(4, 5)"
   ]
  },
  {
   "cell_type": "markdown",
   "id": "69eaf0e6-7d82-42e9-bba0-f76c6a5f14ab",
   "metadata": {},
   "source": [
    "## Oracle"
   ]
  },
  {
   "cell_type": "code",
   "execution_count": null,
   "id": "a9761b88-d8dc-4f74-bdcf-6511c31ba619",
   "metadata": {},
   "outputs": [],
   "source": [
    "def oracle(qc):\n",
    "    qc.x(range(4, 6))\n",
    "    qc.cz(4, 5)\n",
    "    qc.x(range(4, 6))"
   ]
  },
  {
   "cell_type": "markdown",
   "id": "ef1c19cf-44eb-4839-a7a2-34f7bc2a18c6",
   "metadata": {},
   "source": [
    "## Diffuser"
   ]
  },
  {
   "cell_type": "code",
   "execution_count": null,
   "id": "260d55bb-1ef8-49e4-a24f-5d1bb7a37de8",
   "metadata": {},
   "outputs": [],
   "source": [
    "fizz = QuantumRegister(4, 'fizz')\n",
    "an_f = QuantumRegister(2, 'an_f')\n",
    "cl_f = ClassicalRegister(6, 'cl_f')\n",
    "fizz_circuit = QuantumCircuit(fizz, an_f, cl_f)\n",
    "init(fizz_circuit)\n",
    "#qft(fizz_circuit)\n",
    "fizz_circuit.barrier()\n",
    "div_by_3(fizz_circuit)\n",
    "fizz_circuit.barrier()\n",
    "iqft(fizz_circuit)\n",
    "fizz_circuit.barrier()\n",
    "oracle(fizz_circuit)\n",
    "fizz_circuit.barrier()\n",
    "fizz_circuit.h(range(6))\n",
    "fizz_circuit.x(range(6))\n",
    "fizz_circuit.mcp(np.pi, [0, 1, 2, 3, 4], 5)\n",
    "fizz_circuit.x(range(6))\n",
    "fizz_circuit.h(range(6))\n",
    "fizz_circuit.barrier()\n",
    "#fizz_circuit.measure(qr3, cr3)\n",
    "fizz_circuit.draw()"
   ]
  },
  {
   "cell_type": "code",
   "execution_count": null,
   "id": "d9646c42-ba58-4941-ac7e-a9b8e07b7a02",
   "metadata": {},
   "outputs": [],
   "source": [
    "sim = Aer.get_backend('aer_simulator')\n",
    "job3 = execute(qc3, sim, shots = 10000)\n",
    "result3 = job3.result()\n",
    "counts3 = result3.get_counts()\n",
    "plot_histogram(counts3)"
   ]
  },
  {
   "cell_type": "code",
   "execution_count": null,
   "id": "57664f60-a022-4704-91c3-14313deef05b",
   "metadata": {},
   "outputs": [],
   "source": [
    "print(counts3)"
   ]
  },
  {
   "cell_type": "code",
   "execution_count": null,
   "id": "1dd0b253-d8e9-4934-97e0-37c2415753bb",
   "metadata": {},
   "outputs": [],
   "source": [
    "job3 = execute(qc3, sim, shots = 10000)\n",
    "result3 = job3.result()\n",
    "counts3 = result3.get_counts()\n",
    "plot_histogram(counts3)"
   ]
  },
  {
   "cell_type": "code",
   "execution_count": null,
   "id": "0567e2ef-1fd4-49f0-ad45-f7bb0fff7cd3",
   "metadata": {},
   "outputs": [],
   "source": [
    "qr5 = QuantumRegister(6, 'q')\n",
    "cr5 = ClassicalRegister(6, 'c')\n",
    "qc5 = QuantumCircuit(qr5, cr5)\n",
    "qc5.h(range(6))\n",
    "qc5.barrier()\n",
    "qc5.cp(np.pi/2, 0, 4)\n",
    "qc5.cz(0, 5)\n",
    "qc5.cz(1, 4)\n",
    "qc5.cp(-np.pi/2, 2, 4)\n",
    "qc5.cz(2, 5)\n",
    "qc5.cz(3, 4)\n",
    "qc5.barrier()\n",
    "qc5.h(4)\n",
    "qc5.cp(-np.pi/2, 4, 5)\n",
    "qc5.h(5)\n",
    "qc5.barrier()\n",
    "qc5.x(4)\n",
    "qc5.x(5)\n",
    "qc5.cz(4, 5)\n",
    "qc5.x(4)\n",
    "qc5.x(5)\n",
    "qc5.barrier()\n",
    "qc5.h(range(6))\n",
    "qc5.x(range(6))\n",
    "qc5.mcp(np.pi, [0, 1, 2, 3, 4], 5)\n",
    "qc5.x(range(6))\n",
    "qc5.h(range(6))\n",
    "qc5.barrier()\n",
    "qc5.measure(qr5, cr5)\n",
    "qc5.draw()"
   ]
  },
  {
   "cell_type": "code",
   "execution_count": null,
   "id": "381e1737-5e8b-4b3e-a76a-210cbe878665",
   "metadata": {},
   "outputs": [],
   "source": [
    "job5 = execute(qc5, sim, shots = 10000)\n",
    "result5 = job5.result()\n",
    "counts5 = result5.get_counts()\n",
    "plot_histogram(counts5)"
   ]
  },
  {
   "cell_type": "code",
   "execution_count": null,
   "id": "7686103c-b3e4-42ba-b095-77f46e224ec2",
   "metadata": {},
   "outputs": [],
   "source": []
  }
 ],
 "metadata": {
  "kernelspec": {
   "display_name": "Qiskit v0.35.0 (ipykernel)",
   "language": "python",
   "name": "python3"
  },
  "language_info": {
   "codemirror_mode": {
    "name": "ipython",
    "version": 3
   },
   "file_extension": ".py",
   "mimetype": "text/x-python",
   "name": "python",
   "nbconvert_exporter": "python",
   "pygments_lexer": "ipython3",
   "version": "3.8.13"
  },
  "widgets": {
   "application/vnd.jupyter.widget-state+json": {
    "state": {},
    "version_major": 2,
    "version_minor": 0
   }
  }
 },
 "nbformat": 4,
 "nbformat_minor": 5
}
