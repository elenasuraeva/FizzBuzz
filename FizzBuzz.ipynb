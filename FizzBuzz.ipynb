{
 "cells": [
  {
   "cell_type": "markdown",
   "id": "a97906af-12fd-4331-a9f5-2d2859e7f433",
   "metadata": {
    "tags": []
   },
   "source": [
    "# FizzBuzz in Qiskit"
   ]
  },
  {
   "cell_type": "markdown",
   "id": "1125e123-b4a7-42f0-b23c-0cc4311cb973",
   "metadata": {},
   "source": [
    "**Fizz buzz** is a group word game for children to teach them about division [1]. Someone chosen by lot starts counting from $1$ then each next player takes turns incerementing a previous number and saying the result except on occasion it should be replaced by\n",
    "* *Fizz* if the result is divisible by $3$,\n",
    "* *Buzz* if the result is divisible by $5$,\n",
    "* *Fizz Buzz* if both occur simultaneously.\n",
    "\n",
    "A wrong answer means the player is out of the game continued round by round. As a result there are a word chain likes \"One, Two, *Fizz*, Four, *Buzz*, *Fizz*, Seven, Eight, ...\" and a winner who had no mistakes.\n",
    "\n",
    "**FizzBuzz** is also a common programming task to test basic skills. In this case a sequence from $1$ to $100$ should be a program output and could be obtained in many ways. So there are a lot of its implementations in different programming languages. Let's try to realize a simplified version of FizzBuzz in Qiskit using Grover's Search Algorithm (GSA) for multiple solutions.\n",
    "\n",
    "The goal is to create a FizzBuzz sequence from $0$ to $15$ due to some reasons. All the numbers have a four bit representation, two auxiliary bits are enough to carry a condition check that is simplified in the range, and there are two FizzBuzz opening and closing the chain. Consider a binary string $$c_5c_4c_3c_2c_1c_0$$ where two most significant bits $c_5c_4$ keep some information about a number encoded in four least significant bits $c_3c_2c_1c_0$. Classical approaches are generally based on for-loop which body contains a divisibility test therefore the number of iterations $N$ equals to amount of elements. It corresponds to a linear time complexity $O\\left(N\\right)$ and may vary slightly for some implementations meanwhile quantum computing looks promising to improve that.\n",
    "\n",
    "GSA is an unstructured search algorithm presented by Lov Grover in 1996 [2]. Instead of serial brute force it processes all data in parallel increasing a probability of desired outcomes in final distribution. Create a quantum circuit and perform $N=\\frac\\pi4\\sqrt\\frac N K$ iterations giving square root time complexity $O\\left(\\sqrt N\\right)$. That means quadratic speedup so GSA provides quantum supremacy.\n",
    "\n",
    "It is required only 6 qubits that is not be splitted into main and ancillary registers in a code but can be mentioned this way in description. "
   ]
  },
  {
   "cell_type": "markdown",
   "id": "6ddc246a-a6c5-4438-ab0e-444f9439d762",
   "metadata": {},
   "source": [
    "## Imports"
   ]
  },
  {
   "cell_type": "markdown",
   "id": "16d75b01-3b1b-47ac-9795-4f25abb636b1",
   "metadata": {},
   "source": [
    "Since all required functions such as Grover Oracle or Quantum Fourier Transform (QFT) are defined below it is enough to import some standard Qiskit modules and obviously numpy to get the $\\pi$ value."
   ]
  },
  {
   "cell_type": "code",
   "execution_count": null,
   "id": "44ca274a-0797-4c5f-b50b-004e948319a3",
   "metadata": {},
   "outputs": [],
   "source": [
    "import numpy as np\n",
    "\n",
    "# Importing standard Qiskit libraries\n",
    "from qiskit import QuantumCircuit, Aer, IBMQ, QuantumRegister, ClassicalRegister, execute\n",
    "from qiskit.visualization import plot_histogram"
   ]
  },
  {
   "cell_type": "markdown",
   "id": "c20be2d7-374b-4fa4-b93c-e3434bb91e4f",
   "metadata": {},
   "source": [
    "## Initialization"
   ]
  },
  {
   "cell_type": "markdown",
   "id": "0f30a2f8-173e-4ebe-a25a-c9774482aefe",
   "metadata": {},
   "source": [
    "At the beginning of circuit we applying Hadamard gate to each qubit. It gives a uniform superposition over all states in a main register and prepares ancilla qubits to phase adding. The latter is usually done by performing QFT to correct conversion of possible non-zero register value but that is not necessary in the circuit beginning."
   ]
  },
  {
   "cell_type": "code",
   "execution_count": null,
   "id": "1095e680-92f1-499a-aa33-1ce12f39d874",
   "metadata": {},
   "outputs": [],
   "source": [
    "def init(qc):\n",
    "    qc.h(range(6))\n",
    "    qc.barrier()"
   ]
  },
  {
   "cell_type": "markdown",
   "id": "89478c0e-4156-4b5b-8a66-71e30c587cc6",
   "metadata": {
    "tags": []
   },
   "source": [
    "## Divisibility by 3"
   ]
  },
  {
   "cell_type": "markdown",
   "id": "4ff66f83-957f-4aea-8e0f-06855e70cbe8",
   "metadata": {},
   "source": [
    "We have $3_{10}=11_2$ and it is very easy to check if a binary number satisfies the condition. The algorithm would be the same as for decimal number. We find the sums of its even and odd digits and compare them to each other. If they are equal or their difference is multiple of $11_2$ then the binary number is divisible by $11_2$. Note that in four bit register a maximum absolute value of the difference could equal to $10_2$. It means the second statement is always false that's why the divisibility test simplifies to $$(c_3+c_1)-(c_2+c_0)\\equiv0$$\n",
    "\n",
    "Subtraction on the left-hand side can be done in two ways: a bit adder with CNOT and CCNOT gates or a phase adder with CP gate and we choose the second one."
   ]
  },
  {
   "cell_type": "code",
   "execution_count": null,
   "id": "dd2ed378-2af2-4838-a82a-b5307258f1eb",
   "metadata": {},
   "outputs": [],
   "source": [
    "def div_by_3(qc):\n",
    "    qc.cp(np.pi/2, 3, 4)\n",
    "    qc.cz(3, 5)\n",
    "    qc.cp(np.pi/2, 1, 4)\n",
    "    qc.cz(1, 5)\n",
    "    qc.cp(-np.pi/2, 2, 4)\n",
    "    qc.cz(2, 5)\n",
    "    qc.cp(-np.pi/2, 0, 4)\n",
    "    qc.cz(0, 5)\n",
    "    qc.barrier()"
   ]
  },
  {
   "cell_type": "markdown",
   "id": "5b373b40-d041-4051-9eb8-1ee381f64886",
   "metadata": {},
   "source": [
    "## Divisibility by 5"
   ]
  },
  {
   "cell_type": "markdown",
   "id": "073d6cb3-d47b-40c0-aa98-e388ffdf157d",
   "metadata": {},
   "source": [
    "It seems a bit harder but very similar to the previous one. Now we have $3_{10}={0101}_2=11_4$ and each binary pair can be turned into a quaternary digit so we will compare the sums of even and odd pairs of digits. Just like before if they are equal or their difference is multiple of $0101_2$ then the binary number is divisible by $0101_2$. In four bit register there are only two pairs, the odd and the even, so we go straight to substraction skipping the addition. In this case a maximum absolute value of the difference could equal to $11_2$. The second statement is always false again and the divisibility test simplifies to $$c_3c_2-c_1c_0\\equiv0$$"
   ]
  },
  {
   "cell_type": "code",
   "execution_count": null,
   "id": "8de80e35-0971-4829-b58c-57428fd46ea3",
   "metadata": {},
   "outputs": [],
   "source": [
    "def div_by_5(qc):\n",
    "    qc.cp(np.pi/2, 2, 4)\n",
    "    qc.cz(2, 5)\n",
    "    qc.cz(3, 4)\n",
    "    qc.cp(-np.pi/2, 0, 4)\n",
    "    qc.cz(0, 5)\n",
    "    qc.cz(1, 4)\n",
    "    qc.barrier()"
   ]
  },
  {
   "cell_type": "markdown",
   "id": "b9437c92-3e4d-42b7-931c-b8be44f61c3a",
   "metadata": {},
   "source": [
    "## Inverse Quantum Fourier Transform"
   ]
  },
  {
   "cell_type": "code",
   "execution_count": null,
   "id": "5836b3fc-11ae-4fe1-a1c8-78726f60040b",
   "metadata": {},
   "outputs": [],
   "source": [
    "def iqft(qc):\n",
    "    qc.h(4)\n",
    "    qc.cp(-np.pi/2, 4, 5)\n",
    "    qc.h(5)\n",
    "    qc.swap(4, 5)\n",
    "    qc.barrier()"
   ]
  },
  {
   "cell_type": "markdown",
   "id": "69eaf0e6-7d82-42e9-bba0-f76c6a5f14ab",
   "metadata": {},
   "source": [
    "## Oracle"
   ]
  },
  {
   "cell_type": "markdown",
   "id": "e4c13e67-b754-45af-9a8f-d7b6c781bf46",
   "metadata": {},
   "source": [
    "Grover's Oracle marks 'good' states flipping their phase to the negative one so let's take a look what a 'good' state is in our example. Both tests defined above return a zero bit string in ancilla register if and only if a number is divisible. "
   ]
  },
  {
   "cell_type": "code",
   "execution_count": null,
   "id": "a9761b88-d8dc-4f74-bdcf-6511c31ba619",
   "metadata": {},
   "outputs": [],
   "source": [
    "def oracle(qc):\n",
    "    qc.x(range(4, 6))\n",
    "    qc.cz(4, 5)\n",
    "    qc.x(range(4, 6))\n",
    "    qc.barrier()"
   ]
  },
  {
   "cell_type": "markdown",
   "id": "6f30789b-cd72-4120-a5ec-2a1f32d3168e",
   "metadata": {},
   "source": [
    "## Diffuser"
   ]
  },
  {
   "cell_type": "code",
   "execution_count": null,
   "id": "c7555587-2eb3-4a38-bb13-7536cfeb9c21",
   "metadata": {},
   "outputs": [],
   "source": [
    "def diffuser(qc):\n",
    "    qc.h(range(6))\n",
    "    qc.x(range(6))\n",
    "    qc.mcp(np.pi, [0, 1, 2, 3, 4], 5)\n",
    "    qc.x(range(6))\n",
    "    qc.h(range(6))"
   ]
  },
  {
   "cell_type": "markdown",
   "id": "2062ff82-8bb0-4ef2-bc4c-274d041ef3df",
   "metadata": {},
   "source": [
    "## Fizz"
   ]
  },
  {
   "cell_type": "code",
   "execution_count": null,
   "id": "72f0507e-d9af-4c11-a489-2ecdba7660fc",
   "metadata": {},
   "outputs": [],
   "source": [
    "fizz = QuantumCircuit(6)\n",
    "init(fizz)\n",
    "div_by_3(fizz)\n",
    "iqft(fizz)\n",
    "oracle(fizz)\n",
    "diffuser(fizz)\n",
    "fizz.measure_all()\n",
    "fizz.draw()"
   ]
  },
  {
   "cell_type": "code",
   "execution_count": null,
   "id": "d9646c42-ba58-4941-ac7e-a9b8e07b7a02",
   "metadata": {},
   "outputs": [],
   "source": [
    "simulator = Aer.get_backend('aer_simulator')\n",
    "job_fizz = execute(fizz, simulator, shots = 10000)\n",
    "result_fizz = job_fizz.result()\n",
    "counts_fizz = result_fizz.get_counts()\n",
    "plot_histogram(counts_fizz, figsize = (18, 6))"
   ]
  },
  {
   "cell_type": "code",
   "execution_count": null,
   "id": "6673a471-cfcb-4d4e-8aa2-889286ce886c",
   "metadata": {},
   "outputs": [],
   "source": [
    "output = [''] * 16\n",
    "for key in counts_fizz.keys():\n",
    "    if counts_fizz[key] > 500:\n",
    "        output[int(key[2:], 2)] += 'Fizz'\n",
    "print(output)"
   ]
  },
  {
   "cell_type": "markdown",
   "id": "3c57486a-3179-4c67-9a58-093d6cba2ab6",
   "metadata": {},
   "source": [
    "## Buzz"
   ]
  },
  {
   "cell_type": "code",
   "execution_count": null,
   "id": "32f8ec6a-834d-4380-bad4-272232480d9f",
   "metadata": {},
   "outputs": [],
   "source": [
    "buzz = QuantumCircuit(6)\n",
    "init(buzz)\n",
    "div_by_5(buzz)\n",
    "iqft(buzz)\n",
    "oracle(buzz)\n",
    "diffuser(buzz)\n",
    "buzz.measure_all()\n",
    "buzz.draw()"
   ]
  },
  {
   "cell_type": "code",
   "execution_count": null,
   "id": "381e1737-5e8b-4b3e-a76a-210cbe878665",
   "metadata": {},
   "outputs": [],
   "source": [
    "job_buzz = execute(buzz, simulator, shots = 10000)\n",
    "result_buzz = job_buzz.result()\n",
    "counts_buzz = result_buzz.get_counts()\n",
    "plot_histogram(counts_buzz, figsize = (18, 6))"
   ]
  },
  {
   "cell_type": "code",
   "execution_count": null,
   "id": "7686103c-b3e4-42ba-b095-77f46e224ec2",
   "metadata": {},
   "outputs": [],
   "source": [
    "for key in counts_buzz.keys():\n",
    "    if counts_buzz[key] > 500:\n",
    "        output[int(key[2:], 2)] += 'Buzz'\n",
    "print(output)"
   ]
  },
  {
   "cell_type": "code",
   "execution_count": null,
   "id": "3ced0a9c-6dfc-41ca-b846-b10aff46b72b",
   "metadata": {},
   "outputs": [],
   "source": []
  }
 ],
 "metadata": {
  "kernelspec": {
   "display_name": "Python 3 (ipykernel)",
   "language": "python",
   "name": "python3"
  },
  "language_info": {
   "codemirror_mode": {
    "name": "ipython",
    "version": 3
   },
   "file_extension": ".py",
   "mimetype": "text/x-python",
   "name": "python",
   "nbconvert_exporter": "python",
   "pygments_lexer": "ipython3",
   "version": "3.8.13"
  },
  "widgets": {
   "application/vnd.jupyter.widget-state+json": {
    "state": {},
    "version_major": 2,
    "version_minor": 0
   }
  }
 },
 "nbformat": 4,
 "nbformat_minor": 5
}
