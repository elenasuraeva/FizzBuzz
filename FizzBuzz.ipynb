{
 "cells": [
  {
   "cell_type": "markdown",
   "id": "a97906af-12fd-4331-a9f5-2d2859e7f433",
   "metadata": {
    "tags": []
   },
   "source": [
    "# FizzBuzz in Qiskit"
   ]
  },
  {
   "cell_type": "markdown",
   "id": "1125e123-b4a7-42f0-b23c-0cc4311cb973",
   "metadata": {},
   "source": [
    "*Fizz buzz* is a group word game for children to teach them about division [1]."
   ]
  },
  {
   "cell_type": "code",
   "execution_count": null,
   "id": "44ca274a-0797-4c5f-b50b-004e948319a3",
   "metadata": {},
   "outputs": [],
   "source": [
    "import numpy as np\n",
    "\n",
    "# Importing standard Qiskit libraries\n",
    "from qiskit import QuantumCircuit, Aer, IBMQ, QuantumRegister, ClassicalRegister, execute\n",
    "from qiskit.visualization import *\n",
    "\n",
    "# Loading your IBM Quantum account(s)\n",
    "#provider = IBMQ.load_account()\n",
    "#sim = Aer.get_backend('aer_simulator')"
   ]
  },
  {
   "cell_type": "code",
   "execution_count": null,
   "id": "1095e680-92f1-499a-aa33-1ce12f39d874",
   "metadata": {},
   "outputs": [],
   "source": [
    "def init(qc):\n",
    "    qc.h(range(6))"
   ]
  },
  {
   "cell_type": "code",
   "execution_count": null,
   "id": "71cf4504-5296-46ec-ab8c-2ecf2daefdb2",
   "metadata": {},
   "outputs": [],
   "source": [
    "qr3 = QuantumRegister(6, 'q')\n",
    "cr3 = ClassicalRegister(6, 'c')\n",
    "qc3 = QuantumCircuit(qr3, cr3)\n",
    "qc3.h(range(6))\n",
    "qc3.barrier()\n",
    "qc3.cp(np.pi/2, 0, 4)\n",
    "qc3.cz(0, 5)\n",
    "qc3.cp(np.pi/2, 2, 4)\n",
    "qc3.cz(2, 5)\n",
    "qc3.cp(-np.pi/2, 1, 4)\n",
    "qc3.cz(1, 5)\n",
    "qc3.cp(-np.pi/2, 3, 4)\n",
    "qc3.cz(3, 5)\n",
    "qc3.barrier()\n",
    "qc3.h(4)\n",
    "qc3.cp(-np.pi/2, 4, 5)\n",
    "qc3.h(5)\n",
    "qc3.barrier()\n",
    "qc3.x(4)\n",
    "qc3.x(5)\n",
    "qc3.cz(4, 5)\n",
    "qc3.x(4)\n",
    "qc3.x(5)\n",
    "qc3.barrier()\n",
    "qc3.h(range(6))\n",
    "qc3.x(range(6))\n",
    "qc3.mcp(np.pi, [0, 1, 2, 3, 4], 5)\n",
    "qc3.x(range(6))\n",
    "qc3.h(range(6))\n",
    "qc3.barrier()\n",
    "qc3.measure(qr3, cr3)\n",
    "qc3.draw()"
   ]
  },
  {
   "cell_type": "code",
   "execution_count": null,
   "id": "d9646c42-ba58-4941-ac7e-a9b8e07b7a02",
   "metadata": {},
   "outputs": [],
   "source": [
    "#job3 = execute(qc3, sim, shots = 10000)\n",
    "result3 = job3.result()\n",
    "counts3 = result3.get_counts()\n",
    "plot_histogram(counts3)"
   ]
  },
  {
   "cell_type": "code",
   "execution_count": null,
   "id": "1dd0b253-d8e9-4934-97e0-37c2415753bb",
   "metadata": {},
   "outputs": [],
   "source": [
    "job3 = execute(qc3, sim, shots = 10000)\n",
    "result3 = job3.result()\n",
    "counts3 = result3.get_counts()\n",
    "plot_histogram(counts3)"
   ]
  },
  {
   "cell_type": "code",
   "execution_count": null,
   "id": "0567e2ef-1fd4-49f0-ad45-f7bb0fff7cd3",
   "metadata": {},
   "outputs": [],
   "source": [
    "qr5 = QuantumRegister(6, 'q')\n",
    "cr5 = ClassicalRegister(6, 'c')\n",
    "qc5 = QuantumCircuit(qr5, cr5)\n",
    "qc5.h(range(6))\n",
    "qc5.barrier()\n",
    "qc5.cp(np.pi/2, 0, 4)\n",
    "qc5.cz(0, 5)\n",
    "qc5.cz(1, 4)\n",
    "qc5.cp(-np.pi/2, 2, 4)\n",
    "qc5.cz(2, 5)\n",
    "qc5.cz(3, 4)\n",
    "qc5.barrier()\n",
    "qc5.h(4)\n",
    "qc5.cp(-np.pi/2, 4, 5)\n",
    "qc5.h(5)\n",
    "qc5.barrier()\n",
    "qc5.x(4)\n",
    "qc5.x(5)\n",
    "qc5.cz(4, 5)\n",
    "qc5.x(4)\n",
    "qc5.x(5)\n",
    "qc5.barrier()\n",
    "qc5.h(range(6))\n",
    "qc5.x(range(6))\n",
    "qc5.mcp(np.pi, [0, 1, 2, 3, 4], 5)\n",
    "qc5.x(range(6))\n",
    "qc5.h(range(6))\n",
    "qc5.barrier()\n",
    "qc5.measure(qr5, cr5)\n",
    "qc5.draw()"
   ]
  },
  {
   "cell_type": "code",
   "execution_count": null,
   "id": "381e1737-5e8b-4b3e-a76a-210cbe878665",
   "metadata": {},
   "outputs": [],
   "source": [
    "job5 = execute(qc5, sim, shots = 10000)\n",
    "result5 = job5.result()\n",
    "counts5 = result5.get_counts()\n",
    "plot_histogram(counts5)"
   ]
  },
  {
   "cell_type": "code",
   "execution_count": null,
   "id": "7686103c-b3e4-42ba-b095-77f46e224ec2",
   "metadata": {},
   "outputs": [],
   "source": []
  }
 ],
 "metadata": {
  "kernelspec": {
   "display_name": "Qiskit v0.35.0 (ipykernel)",
   "language": "python",
   "name": "python3"
  },
  "language_info": {
   "codemirror_mode": {
    "name": "ipython",
    "version": 3
   },
   "file_extension": ".py",
   "mimetype": "text/x-python",
   "name": "python",
   "nbconvert_exporter": "python",
   "pygments_lexer": "ipython3",
   "version": "3.8.13"
  },
  "widgets": {
   "application/vnd.jupyter.widget-state+json": {
    "state": {},
    "version_major": 2,
    "version_minor": 0
   }
  }
 },
 "nbformat": 4,
 "nbformat_minor": 5
}
