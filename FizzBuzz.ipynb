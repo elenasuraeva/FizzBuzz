{
 "cells": [
  {
   "cell_type": "markdown",
   "id": "a97906af-12fd-4331-a9f5-2d2859e7f433",
   "metadata": {
    "tags": []
   },
   "source": [
    "# FizzBuzz in Qiskit"
   ]
  },
  {
   "cell_type": "markdown",
   "id": "1125e123-b4a7-42f0-b23c-0cc4311cb973",
   "metadata": {},
   "source": [
    "**Fizz buzz** is a group word game for children to teach them about division. Someone chosen by lot starts counting from $1$ then players take turns incerementing a previous number and saying the result except on occasion it should be replaced by\n",
    "* *Fizz* if the result is divisible by $3$,\n",
    "* *Buzz* if the result is divisible by $5$,\n",
    "* *Fizz Buzz* if both occur simultaneously.\n",
    "\n",
    "A wrong answer means the player is out of a game continued round by round. It would eventually a word chain likes \"One, Two, *Fizz*, Four, *Buzz*, *Fizz*, Seven, ...\" and a winner who never made a mistake.\n",
    "\n",
    "**FizzBuzz** is also a common programming task to test basic skills. In this case a sequence from $1$ to $100$ should be a program output and could be obtained in many ways. That is why there are a lot of its implementation in different programming languages. Here we realize a simplified version of FizzBuzz in Qiskit using Grover's Search Algorithm (GSA) for multiple solutions.\n",
    "\n",
    "Classical approaches are generally based on for loop which body contains a divisibility test. A number of iterations $N$ then equals to length of input so time complexity is a linear function $O\\left(N\\right)$. Actually it may vary slightly because a database is not a complitely unstructured meanwhile quantum computing looks promising to improve significantly.\n",
    "\n",
    "GSA is an unstructured search algorithm presented by Lov Grover in 1996. Instead of brut force it processes all data in parallel increasing a probability of favorable outcomes in final distribution. To find $k$ solutions in array of $N$ elements we perform $\\lfloor\\frac\\pi4\\sqrt\\frac N K\\rfloor$ iterations thus time complexity now is a square root function $O\\left(\\sqrt N\\right)$. This is quadratic speedup that is why GSA provides quantum supremacy.\n",
    "\n",
    "The goal is to create a sequence from $0$ to $15$ due to some reasons. All the numbers have a four bit representation, two auxiliary bits are enough to carry a result of check condition that is simplified in the range, and there are two *FizzBuzz* opening and closing the chain.\n",
    "\n",
    "We break down the task into *Fizz* and *Buzz* parts devising two divisibility tests independent of one another. However their results are very similar. To avoid any confusion we build two quantum circuits differ in the test but have an oracle and a diffuser the same. At the end all measurement results will be processed together to create an output. There are six multiples of $3$ which are $\\{ 0, 3, 6, 9, 12, 15\\}$ and four multiples of $5$ which are $\\{ 0, 5, 10, 15\\}$ thus the oracle is applied $\\lfloor\\frac\\pi4\\sqrt\\frac{16}6\\rfloor=1$ time in *Fizz* and $\\lfloor\\frac\\pi4\\sqrt\\frac{16}4\\rfloor=1$ time in *Buzz* circuits. On the whole we call the oracle twice.\n",
    "\n",
    "The total number of iterations doesn't depend on input length. Each third number is divisible by $3$ so $\\frac Nk\\approx3$ and each fifth number is divisible by $5$ so $\\frac Nk\\approx5$. We should make $\\lfloor\\frac\\pi4\\sqrt3\\rfloor=1$ *Fizz* and $\\lfloor\\frac\\pi4\\sqrt5\\rfloor=1$ *Buzz* iterations. It means constant time complexity $O\\left(2\\right)$ conditioned by some input structure."
   ]
  },
  {
   "cell_type": "markdown",
   "id": "45c8f053-99d4-4d63-a856-c0e807211046",
   "metadata": {},
   "source": [
    "Given a binary string $$c_5c_4c_3c_2c_1c_0$$ where two most significant bits $c_5c_4$ keep some information about a number encoded in four least significant bits $c_3c_2c_1c_0$. To acquire the string or rather a string list we measure in $Z$ basis some quantum register $$\\lvert q_5q_4q_3q_2q_1q_0\\rangle.$$\n",
    "\n",
    "Any computation is a quantum circuit, i.e. a sequence of unitaries apply on qubits for state evolution then measurements collapse a state to a string. Because the final part is probabilistic we run a  circuit on real device or simulator many times in a row. A result is a dictionary with binary strings are the keys and count outcomes are the values. Here it is required only 6 qubits not split into main and ancilla registers in a code but they can be mentioned this way in description."
   ]
  },
  {
   "cell_type": "markdown",
   "id": "6ddc246a-a6c5-4438-ab0e-444f9439d762",
   "metadata": {},
   "source": [
    "## Imports"
   ]
  },
  {
   "cell_type": "markdown",
   "id": "16d75b01-3b1b-47ac-9795-4f25abb636b1",
   "metadata": {},
   "source": [
    "All required functions such as Grover Oracle, Quantum Fourier Transform, etc., are defined below and it is enough to import some standard Qiskit modules and last but not least numpy to get the $\\pi$ value."
   ]
  },
  {
   "cell_type": "code",
   "execution_count": null,
   "id": "44ca274a-0797-4c5f-b50b-004e948319a3",
   "metadata": {},
   "outputs": [],
   "source": [
    "from qiskit import QuantumCircuit, Aer, execute\n",
    "from qiskit.visualization import plot_histogram\n",
    "import numpy as np"
   ]
  },
  {
   "cell_type": "markdown",
   "id": "c20be2d7-374b-4fa4-b93c-e3434bb91e4f",
   "metadata": {},
   "source": [
    "## Initialization"
   ]
  },
  {
   "cell_type": "markdown",
   "id": "0f30a2f8-173e-4ebe-a25a-c9774482aefe",
   "metadata": {},
   "source": [
    "At the beginning we apply Hadamard gate on whole main register creating a uniform superposition over all states. Now we are allowed to test the numbers in parallel."
   ]
  },
  {
   "cell_type": "code",
   "execution_count": null,
   "id": "1095e680-92f1-499a-aa33-1ce12f39d874",
   "metadata": {},
   "outputs": [],
   "source": [
    "def init(qc):\n",
    "    qc.h(range(4))\n",
    "    qc.barrier()"
   ]
  },
  {
   "cell_type": "markdown",
   "id": "d9439171-72ba-41da-8c3d-c191fa2a1569",
   "metadata": {},
   "source": [
    "## Quantum Fourier Transform"
   ]
  },
  {
   "cell_type": "markdown",
   "id": "d2ad5cc2-b546-4be3-86fb-06599bcca142",
   "metadata": {},
   "source": [
    "Quantum Fourier Transform (QFT) is a number one subroutine in quantum computing. This way we perform a change of basis for some state turning its representation from bit to phase. Note that QFT defined here switches a qubit ordering so that MSB becomes LSB and vice versa. It can be fixed using extra $SWAP$ gates but we just reckon with it in computations."
   ]
  },
  {
   "cell_type": "code",
   "execution_count": null,
   "id": "8f4daa4f-536c-4f96-84b9-3d0a27e79441",
   "metadata": {},
   "outputs": [],
   "source": [
    "def qft(qc):\n",
    "    qc.h(5)\n",
    "    qc.cp(np.pi/2, 4, 5)\n",
    "    qc.h(4)\n",
    "    qc.barrier()"
   ]
  },
  {
   "cell_type": "markdown",
   "id": "89478c0e-4156-4b5b-8a66-71e30c587cc6",
   "metadata": {
    "tags": []
   },
   "source": [
    "## Divisibility by 3"
   ]
  },
  {
   "cell_type": "markdown",
   "id": "4ff66f83-957f-4aea-8e0f-06855e70cbe8",
   "metadata": {},
   "source": [
    "We have $3_{10}=11_2$ and it is very easy to check if a binary number satisfies the condition. Same as for $11$ in decimal the algorithm takes an alternating digit sum. In other word we find the sums of its even and odd digits and compare them to each other. If they are equal or their difference is multiple of $11_2$ then the binary number is divisible by $11_2$. A maximum absolute difference in a four bit register equals to $10_2$ thus the second statement is always false and the divisibility test reduces to $$c_3-c_2+c_1-c_0\\equiv0.$$\n",
    "\n",
    "It is not applicable for large registers where a non-zero alternating digit sum may occur for multiples of $3$ too. Then either an oracle should consider that or the sum itself should be tested the same way again. The latter is much easier but it requires additional qubits for intermediate calculations.\n",
    "\n",
    "The left-hand side can be done in two ways: a bit adder with $CX$ and $CCX$ gates or a phase adder with $CP$ gates. We choose the second one combines addition and substraction as an algebraic sum. It performs counterclockwise and clockwise phase rotations of ancilla qubits depend on sign."
   ]
  },
  {
   "cell_type": "code",
   "execution_count": null,
   "id": "dd2ed378-2af2-4838-a82a-b5307258f1eb",
   "metadata": {},
   "outputs": [],
   "source": [
    "def div_by_3(qc):\n",
    "    qc.cp(np.pi/2, 3, 5)\n",
    "    qc.cz(3, 4)\n",
    "    qc.cp(-np.pi/2, 2, 5)\n",
    "    qc.cz(2, 4)\n",
    "    qc.cp(np.pi/2, 1, 5)\n",
    "    qc.cz(1, 4)\n",
    "    qc.cp(-np.pi/2, 0, 5)\n",
    "    qc.cz(0, 4)\n",
    "    qc.barrier()"
   ]
  },
  {
   "cell_type": "markdown",
   "id": "2a1d4229-3d7f-4fea-acc7-54e188db4536",
   "metadata": {},
   "source": [
    "For amplitude amplification to work correct it is required to set ancilla register to $\\lvert00\\rangle$ state before diffusion. The stage is called 'uncomputation'. That is why we create a function inverse to above one. In phase addition it means all rotations just reverse their directions. Note that $CP(\\pi)=CP(-\\pi)=CZ$ so the gate remains unchanged."
   ]
  },
  {
   "cell_type": "code",
   "execution_count": null,
   "id": "4279d7ea-50e3-4f14-b8c9-f57fd3ab000b",
   "metadata": {},
   "outputs": [],
   "source": [
    "def inv_div_by_3(qc):\n",
    "    qc.cp(-np.pi/2, 3, 5)\n",
    "    qc.cz(3, 4)\n",
    "    qc.cp(np.pi/2, 2, 5)\n",
    "    qc.cz(2, 4)\n",
    "    qc.cp(-np.pi/2, 1, 5)\n",
    "    qc.cz(1, 4)\n",
    "    qc.cp(np.pi/2, 0, 5)\n",
    "    qc.cz(0, 4)\n",
    "    qc.barrier()"
   ]
  },
  {
   "cell_type": "markdown",
   "id": "5b373b40-d041-4051-9eb8-1ee381f64886",
   "metadata": {},
   "source": [
    "## Divisibility by 5"
   ]
  },
  {
   "cell_type": "markdown",
   "id": "073d6cb3-d47b-40c0-aa98-e388ffdf157d",
   "metadata": {},
   "source": [
    "It seems a bit harder but very similar to the previous one. Now we have $3_{10}=11_4={0101}_2$ and each quaternary digit turns to a binary pair thus we compare the sums of even and odd pairs of digits. Just like before if they are equal or their difference is multiple of $0101_2$ then the binary number is divisible by $0101_2$. In four bit register there are only two pairs, the odd and the even, so we go straight to substraction skipping any addition. In this case a maximum absolute value of the difference could equal to $11_2$. The second statement is always false again and the divisibility test reduces to $$c_3c_2-c_1c_0\\equiv0.$$"
   ]
  },
  {
   "cell_type": "code",
   "execution_count": null,
   "id": "8de80e35-0971-4829-b58c-57428fd46ea3",
   "metadata": {},
   "outputs": [],
   "source": [
    "def div_by_5(qc):\n",
    "    qc.cp(np.pi/2, 2, 5)\n",
    "    qc.cz(2, 4)\n",
    "    qc.cz(3, 5)\n",
    "    qc.cp(-np.pi/2, 0, 5)\n",
    "    qc.cz(0, 4)\n",
    "    qc.cz(1, 5)\n",
    "    qc.barrier()"
   ]
  },
  {
   "cell_type": "markdown",
   "id": "26b48f90-6a6c-496b-903a-d072e43c636e",
   "metadata": {},
   "source": [
    "Now we create an inverse function for uncomputation changing all rotations to opposite ones."
   ]
  },
  {
   "cell_type": "code",
   "execution_count": null,
   "id": "887ef2cb-1bd2-429d-b4da-bef884f47048",
   "metadata": {},
   "outputs": [],
   "source": [
    "def inv_div_by_5(qc):\n",
    "    qc.cp(-np.pi/2, 2, 5)\n",
    "    qc.cz(2, 4)\n",
    "    qc.cz(3, 5)\n",
    "    qc.cp(np.pi/2, 0, 5)\n",
    "    qc.cz(0, 4)\n",
    "    qc.cz(1, 5)\n",
    "    qc.barrier()"
   ]
  },
  {
   "cell_type": "markdown",
   "id": "b9437c92-3e4d-42b7-931c-b8be44f61c3a",
   "metadata": {},
   "source": [
    "## Inverse Quantum Fourier Transform"
   ]
  },
  {
   "cell_type": "markdown",
   "id": "e2fedd80-93b8-4597-ac9e-2466681ba1d7",
   "metadata": {},
   "source": [
    "After arithmetic calculations we return from phase to bit representation of ancilla register. Superposition of states differ phases converts here to a separable state. We get some tensor product of Pauli $Z$ eigenstates which are $\\lvert0\\rangle$ or $\\lvert1\\rangle$. Note the main register remains in superposition and we still process all numbers simultaneously. Now each of them encoded in four least significant qubits goes along with only one possible alternating digit sum encoded in two most significant qubits."
   ]
  },
  {
   "cell_type": "code",
   "execution_count": null,
   "id": "5836b3fc-11ae-4fe1-a1c8-78726f60040b",
   "metadata": {},
   "outputs": [],
   "source": [
    "def iqft(qc):\n",
    "    qc.h(4)\n",
    "    qc.cp(-np.pi/2, 4, 5)\n",
    "    qc.h(5)\n",
    "    qc.barrier()"
   ]
  },
  {
   "cell_type": "markdown",
   "id": "69eaf0e6-7d82-42e9-bba0-f76c6a5f14ab",
   "metadata": {},
   "source": [
    "## Oracle"
   ]
  },
  {
   "cell_type": "markdown",
   "id": "e4c13e67-b754-45af-9a8f-d7b6c781bf46",
   "metadata": {},
   "source": [
    "Grover oracle marks the states we wish to find by flipping their relative phase to the negative one $$U_\\omega\\lvert\\psi\\rangle=\\begin{cases}\\hphantom{-}\\lvert\\psi\\rangle\\,\\text{for the 'good' states},\\\\ -\\lvert\\psi\\rangle\\,\\text{for the others}.\\end{cases}$$\n",
    "What does 'good' mean in our example? Each test defined above returns $\\lvert00\\rangle$ ancilla if and only if a number is divisible. The register is two qubits so we need an operator switches one state out of four. $CZ$ gate looks suitable for both quantum circuits but in fact it flips a $\\lvert11\\rangle$ phase. To use it here we additionally surround the operator by $XX$ gates."
   ]
  },
  {
   "cell_type": "code",
   "execution_count": null,
   "id": "a9761b88-d8dc-4f74-bdcf-6511c31ba619",
   "metadata": {},
   "outputs": [],
   "source": [
    "def oracle(qc):\n",
    "    qc.x(range(4, 6))\n",
    "    qc.cz(4, 5)\n",
    "    qc.x(range(4, 6))\n",
    "    qc.barrier()"
   ]
  },
  {
   "cell_type": "markdown",
   "id": "6f30789b-cd72-4120-a5ec-2a1f32d3168e",
   "metadata": {},
   "source": [
    "## Diffuser"
   ]
  },
  {
   "cell_type": "markdown",
   "id": "c3f6a6db-13d9-40f1-b724-a5736b298215",
   "metadata": {},
   "source": [
    "Grover diffusion operator $U_s=2\\,\\lvert0^{\\otimes4}\\rangle\\langle0^{\\otimes4}\\rvert-I$ makes another one reflection and unlike to above it switches almost all terms in superposition, not only the searched states. This way we amplify a probability amplitude for 'good' outcomes by reducing it for the others. Just like an oracle a diffuser is identical for both quantum circuits and actually the same for almost any search. But unlike an oracle in applies on the main register, not the ancilla."
   ]
  },
  {
   "cell_type": "code",
   "execution_count": null,
   "id": "c7555587-2eb3-4a38-bb13-7536cfeb9c21",
   "metadata": {},
   "outputs": [],
   "source": [
    "def diffuser(qc):\n",
    "    qc.h(range(4))\n",
    "    qc.x(range(4))\n",
    "    qc.mcp(np.pi, [0, 1, 2], 3)\n",
    "    qc.x(range(4))\n",
    "    qc.h(range(4))\n",
    "    qc.barrier()"
   ]
  },
  {
   "cell_type": "markdown",
   "id": "2062ff82-8bb0-4ef2-bc4c-274d041ef3df",
   "metadata": {},
   "source": [
    "## Fizz"
   ]
  },
  {
   "cell_type": "markdown",
   "id": "9b0cf311-1b84-4c52-85ec-17544abc83be",
   "metadata": {},
   "source": [
    "Now we put all functions together and build up a quantum circuit to find multiples of $3$. From creating superposition through complex oracle and diffuser we finish by measurement in Pauli $Z$ basis."
   ]
  },
  {
   "cell_type": "code",
   "execution_count": null,
   "id": "72f0507e-d9af-4c11-a489-2ecdba7660fc",
   "metadata": {},
   "outputs": [],
   "source": [
    "fizz = QuantumCircuit(6)\n",
    "init(fizz)\n",
    "qft(fizz)\n",
    "div_by_3(fizz)\n",
    "iqft(fizz)\n",
    "oracle(fizz)\n",
    "qft(fizz)\n",
    "inv_div_by_3(fizz)\n",
    "iqft(fizz)\n",
    "diffuser(fizz)\n",
    "fizz.measure_all()\n",
    "fizz.draw()"
   ]
  },
  {
   "cell_type": "markdown",
   "id": "0f600e88-3a01-4f35-a78a-626461563681",
   "metadata": {},
   "source": [
    "Send the circuit to device for executing. Here we get a main simulator of the Aer provider as a backend. It mimics a behavior of real quantum hardware systems those may not be available to everyone. By default the simulator is noise-free what is useful for education or debugging. We are also possible to run the circuits on real quantum devices however an error correction procedure may be required."
   ]
  },
  {
   "cell_type": "code",
   "execution_count": null,
   "id": "d9646c42-ba58-4941-ac7e-a9b8e07b7a02",
   "metadata": {},
   "outputs": [],
   "source": [
    "simulator = Aer.get_backend('aer_simulator')\n",
    "job_fizz = execute(fizz, simulator, shots = 1024)\n",
    "result_fizz = job_fizz.result()\n",
    "counts_fizz = result_fizz.get_counts()\n",
    "plot_histogram(counts_fizz, figsize = (18, 6))"
   ]
  },
  {
   "cell_type": "markdown",
   "id": "3c57486a-3179-4c67-9a58-093d6cba2ab6",
   "metadata": {},
   "source": [
    "## Buzz"
   ]
  },
  {
   "cell_type": "markdown",
   "id": "ce09f35b-eecf-4efb-8169-8cffa6199925",
   "metadata": {},
   "source": [
    "Exactly the same way we create and then execute another circuit to find multiples of $5$."
   ]
  },
  {
   "cell_type": "code",
   "execution_count": null,
   "id": "32f8ec6a-834d-4380-bad4-272232480d9f",
   "metadata": {},
   "outputs": [],
   "source": [
    "buzz = QuantumCircuit(6)\n",
    "init(buzz)\n",
    "qft(buzz)\n",
    "div_by_5(buzz)\n",
    "iqft(buzz)\n",
    "oracle(buzz)\n",
    "qft(buzz)\n",
    "inv_div_by_5(buzz)\n",
    "iqft(buzz)\n",
    "diffuser(buzz)\n",
    "buzz.measure_all()\n",
    "buzz.draw()"
   ]
  },
  {
   "cell_type": "code",
   "execution_count": null,
   "id": "381e1737-5e8b-4b3e-a76a-210cbe878665",
   "metadata": {},
   "outputs": [],
   "source": [
    "job_buzz = execute(buzz, simulator, shots = 1024)\n",
    "result_buzz = job_buzz.result()\n",
    "counts_buzz = result_buzz.get_counts()\n",
    "plot_histogram(counts_buzz, figsize = (18, 6))"
   ]
  },
  {
   "cell_type": "markdown",
   "id": "1f44e7d6-3d00-46b2-b04e-95432d571910",
   "metadata": {},
   "source": [
    "## Ouptut"
   ]
  },
  {
   "cell_type": "markdown",
   "id": "451b2a0b-05cc-41a6-8c8f-91997ba32214",
   "metadata": {},
   "source": [
    "After both circuits running we have obtained two dictionaries plotted above as histograms. Each high bar corresponds to some binary string with required number in four LSBs (main register). This is an expected result because the strings describe good states amplified by GSA. They are obviously distinguish from others but it is still raw data.\n",
    "\n",
    "The output we work on is a list of strings so create some pattern for the beginning. Then apply firstly 'Fizz' and secondly 'Buzz' results to elements those indices are decoded from amplified strings main register. Other strings are still empty should be filled out their indices directly."
   ]
  },
  {
   "cell_type": "code",
   "execution_count": null,
   "id": "6673a471-cfcb-4d4e-8aa2-889286ce886c",
   "metadata": {},
   "outputs": [],
   "source": [
    "output = [''] * 16\n",
    "for key in {k:v for (k,v) in counts_fizz.items() if v>100}:\n",
    "    output[int(key[2:], 2)] += 'Fizz'\n",
    "for key in {k:v for (k,v) in counts_buzz.items() if v>100}:\n",
    "    output[int(key[2:], 2)] += 'Buzz'\n",
    "#for out in output if out == '':\n",
    "#    out += '1'\n",
    "#[i += str(index(i)) for i in output]\n",
    "#[print(i, end=' ') for i in output]\n",
    "print(output)"
   ]
  },
  {
   "cell_type": "code",
   "execution_count": null,
   "id": "16a83adc-fa3a-42d2-af2c-69f39d291309",
   "metadata": {},
   "outputs": [],
   "source": []
  }
 ],
 "metadata": {
  "kernelspec": {
   "display_name": "Python 3 (ipykernel)",
   "language": "python",
   "name": "python3"
  },
  "language_info": {
   "codemirror_mode": {
    "name": "ipython",
    "version": 3
   },
   "file_extension": ".py",
   "mimetype": "text/x-python",
   "name": "python",
   "nbconvert_exporter": "python",
   "pygments_lexer": "ipython3",
   "version": "3.8.13"
  },
  "widgets": {
   "application/vnd.jupyter.widget-state+json": {
    "state": {},
    "version_major": 2,
    "version_minor": 0
   }
  }
 },
 "nbformat": 4,
 "nbformat_minor": 5
}
